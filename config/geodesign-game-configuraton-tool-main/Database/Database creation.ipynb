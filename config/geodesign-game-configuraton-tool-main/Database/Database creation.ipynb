{
 "cells": [
  {
   "cell_type": "markdown",
   "id": "c1bd3ced",
   "metadata": {},
   "source": [
    "# Create the database"
   ]
  },
  {
   "cell_type": "markdown",
   "id": "913faf05",
   "metadata": {},
   "source": [
    "## Librairies"
   ]
  },
  {
   "cell_type": "code",
   "execution_count": 1,
   "id": "016a926d",
   "metadata": {},
   "outputs": [
    {
     "name": "stdout",
     "output_type": "stream",
     "text": [
      "Requirement already satisfied: Flask in c:\\programdata\\anaconda3\\lib\\site-packages (2.2.2)\n",
      "Requirement already satisfied: Werkzeug>=2.2.2 in c:\\programdata\\anaconda3\\lib\\site-packages (from Flask) (2.2.3)\n",
      "Requirement already satisfied: Jinja2>=3.0 in c:\\programdata\\anaconda3\\lib\\site-packages (from Flask) (3.1.2)\n",
      "Requirement already satisfied: itsdangerous>=2.0 in c:\\programdata\\anaconda3\\lib\\site-packages (from Flask) (2.0.1)\n",
      "Requirement already satisfied: click>=8.0 in c:\\users\\chanony iann\\appdata\\roaming\\python\\python38\\site-packages (from Flask) (8.1.3)\n",
      "Requirement already satisfied: importlib-metadata>=3.6.0 in c:\\programdata\\anaconda3\\lib\\site-packages (from Flask) (6.0.0)\n",
      "Requirement already satisfied: colorama in c:\\programdata\\anaconda3\\lib\\site-packages (from click>=8.0->Flask) (0.4.6)\n",
      "Requirement already satisfied: zipp>=0.5 in c:\\programdata\\anaconda3\\lib\\site-packages (from importlib-metadata>=3.6.0->Flask) (3.11.0)\n",
      "Requirement already satisfied: MarkupSafe>=2.0 in c:\\programdata\\anaconda3\\lib\\site-packages (from Jinja2>=3.0->Flask) (2.1.1)\n",
      "Note: you may need to restart the kernel to use updated packages.\n"
     ]
    },
    {
     "name": "stderr",
     "output_type": "stream",
     "text": [
      "WARNING: Ignoring invalid distribution -equests (c:\\programdata\\anaconda3\\lib\\site-packages)\n",
      "WARNING: Ignoring invalid distribution -lick (c:\\programdata\\anaconda3\\lib\\site-packages)\n",
      "WARNING: Ignoring invalid distribution -equests (c:\\programdata\\anaconda3\\lib\\site-packages)\n",
      "WARNING: Ignoring invalid distribution -lick (c:\\programdata\\anaconda3\\lib\\site-packages)\n"
     ]
    }
   ],
   "source": [
    "pip install Flask"
   ]
  },
  {
   "cell_type": "code",
   "execution_count": 2,
   "id": "b6c19bab",
   "metadata": {},
   "outputs": [],
   "source": [
    "from flask import Flask, render_template, request\n",
    "import sqlite3"
   ]
  },
  {
   "cell_type": "markdown",
   "id": "625727b5",
   "metadata": {},
   "source": [
    "### Initialization"
   ]
  },
  {
   "cell_type": "code",
   "execution_count": 3,
   "id": "53f382cb",
   "metadata": {},
   "outputs": [],
   "source": [
    "app = Flask(__name__)"
   ]
  },
  {
   "cell_type": "markdown",
   "id": "5fd4cc16",
   "metadata": {},
   "source": [
    "## Define the database"
   ]
  },
  {
   "cell_type": "code",
   "execution_count": 4,
   "id": "c05435ad",
   "metadata": {},
   "outputs": [],
   "source": [
    "def create_db():\n",
    "    conn = sqlite3.connect('config_generator.db')\n",
    "    c = conn.cursor()\n",
    "    # Create the 'cities' table\n",
    "    c.execute('''CREATE TABLE IF NOT EXISTS cities (\n",
    "                 id INTEGER PRIMARY KEY,\n",
    "                 name TEXT NOT NULL,\n",
    "                 description TEXT NOT NULL,\n",
    "                 ebas TEXT NOT NULL,\n",
    "                 mean_cost INTEGER NOT NULL,\n",
    "                 currency TEXT NOT NULL,\n",
    "                 location TEXT NOT NULL,\n",
    "                 budget INTEGER NOT NULL\n",
    "                 )''')\n",
    "    # Create the 'ebas' table\n",
    "    c.execute('''CREATE TABLE IF NOT EXISTS ebas (\n",
    "                 id INTEGER PRIMARY KEY,\n",
    "                 name TEXT NOT NULL,\n",
    "                 description TEXT NOT NULL,\n",
    "                 icon TEXT NOT NULL,\n",
    "                 cost INTEGER NOT NULL\n",
    "                 )''')\n",
    "    conn.commit()\n",
    "    conn.close()"
   ]
  },
  {
   "cell_type": "markdown",
   "id": "450b7f24",
   "metadata": {},
   "source": [
    "### Initial EBAs"
   ]
  },
  {
   "cell_type": "code",
   "execution_count": null,
   "id": "4b2b4fb9",
   "metadata": {},
   "outputs": [],
   "source": [
    "def insert_initial_ebas():\n",
    "    conn = sqlite3.connect('config_generator.db')\n",
    "    c = conn.cursor()\n",
    "    # Insert sample EBA data\n",
    "    ebas_data = [\n",
    "        ('6c3c338f-5587-4d93-8e6c-a0b23cc78989', 'Dune Stabilization', 'Dune stabilization refers to the process of managing and preserving sand dunes to prevent erosion and maintain their ecological and environmental functions. ...', 'Dune', 70000),\n",
    "        ('6c3c338f-5587-4d93-8e6c-a0b23cc78989', 'Tree plantation', 'Tree plantation is the process of planting and establishing trees in various locations, including forests, urban areas, and agricultural lands, with the aim of improving the environment and achieving multiple benefits. ...', 'Green', 70000),\n",
    "        # Add more EBA data as needed\n",
    "    ]\n",
    "    c.executemany('''INSERT INTO ebas (id, name, description, icon, cost)\n",
    "                     VALUES (?, ?, ?, ?, ?)''', ebas_data)\n",
    "    conn.commit()\n",
    "    conn.close()\n"
   ]
  },
  {
   "cell_type": "markdown",
   "id": "c63f8bc1",
   "metadata": {},
   "source": [
    "## Create the route"
   ]
  },
  {
   "cell_type": "code",
   "execution_count": 5,
   "id": "55b911ff",
   "metadata": {},
   "outputs": [],
   "source": [
    "@app.route('/generate_config', methods=['POST'])\n",
    "def generate_config():\n",
    "    # Retrieve form data\n",
    "    city_name = request.form['city-name']\n",
    "    city_description = request.form['city-description']\n",
    "    selected_ebas = request.form.getlist('selected-ebas')\n",
    "    mean_cost = int(request.form['mean-cost'])\n",
    "    currency = request.form['currency']\n",
    "    map_center = request.form['map-center']\n",
    "    city_budget = int(request.form['city-budget'])\n",
    "\n",
    "    # Convert the list of selected ebas to a string for storage in the database\n",
    "    ebas_str = ','.join(selected_ebas)\n",
    "\n",
    "    # Insert data into the database\n",
    "    conn = sqlite3.connect('config_generator.db')\n",
    "    c = conn.cursor()\n",
    "    c.execute('''INSERT INTO cities (name, description, ebas, mean_cost, currency, location, budget)\n",
    "                 VALUES (?, ?, ?, ?, ?, ?, ?)''',\n",
    "              (city_name, city_description, ebas_str, mean_cost, currency, map_center, city_budget))\n",
    "    conn.commit()\n",
    "    conn.close()\n",
    "\n",
    "    # Return a response or redirect to another page\n",
    "    return 'Config generated successfully!'"
   ]
  },
  {
   "cell_type": "markdown",
   "id": "08b2a7f5",
   "metadata": {},
   "source": [
    "### Running the app"
   ]
  },
  {
   "cell_type": "code",
   "execution_count": 6,
   "id": "1df47639",
   "metadata": {},
   "outputs": [
    {
     "name": "stdout",
     "output_type": "stream",
     "text": [
      " * Serving Flask app '__main__'\n",
      " * Debug mode: on\n"
     ]
    },
    {
     "name": "stderr",
     "output_type": "stream",
     "text": [
      "WARNING: This is a development server. Do not use it in a production deployment. Use a production WSGI server instead.\n",
      " * Running on http://127.0.0.1:5000\n",
      "Press CTRL+C to quit\n",
      " * Restarting with watchdog (windowsapi)\n"
     ]
    },
    {
     "ename": "SystemExit",
     "evalue": "1",
     "output_type": "error",
     "traceback": [
      "An exception has occurred, use %tb to see the full traceback.\n",
      "\u001b[1;31mSystemExit\u001b[0m\u001b[1;31m:\u001b[0m 1\n"
     ]
    },
    {
     "name": "stderr",
     "output_type": "stream",
     "text": [
      "C:\\ProgramData\\Anaconda3\\lib\\site-packages\\IPython\\core\\interactiveshell.py:3513: UserWarning: To exit: use 'exit', 'quit', or Ctrl-D.\n",
      "  warn(\"To exit: use 'exit', 'quit', or Ctrl-D.\", stacklevel=1)\n"
     ]
    }
   ],
   "source": [
    "if __name__ == '__main__':\n",
    "    create_db()  # Create the database and tables when the app starts\n",
    "    insert_initial_ebas()  # Insert initial EBA data\n",
    "    app.run(debug=True)"
   ]
  }
 ],
 "metadata": {
  "kernelspec": {
   "display_name": "Python 3 (ipykernel)",
   "language": "python",
   "name": "python3"
  },
  "language_info": {
   "codemirror_mode": {
    "name": "ipython",
    "version": 3
   },
   "file_extension": ".py",
   "mimetype": "text/x-python",
   "name": "python",
   "nbconvert_exporter": "python",
   "pygments_lexer": "ipython3",
   "version": "3.8.16"
  }
 },
 "nbformat": 4,
 "nbformat_minor": 5
}
